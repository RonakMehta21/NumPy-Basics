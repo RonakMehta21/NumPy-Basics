{
  "nbformat": 4,
  "nbformat_minor": 0,
  "metadata": {
    "colab": {
      "name": "Basics of NumPy Arrays.ipynb",
      "provenance": [],
      "collapsed_sections": [],
      "authorship_tag": "ABX9TyPkldNxwSxHyC9wJbnLnADe",
      "include_colab_link": true
    },
    "kernelspec": {
      "name": "python3",
      "display_name": "Python 3"
    }
  },
  "cells": [
    {
      "cell_type": "markdown",
      "metadata": {
        "id": "view-in-github",
        "colab_type": "text"
      },
      "source": [
        "<a href=\"https://colab.research.google.com/github/RonakMehta21/NumPy-Basics/blob/master/Basics_of_NumPy_Arrays.ipynb\" target=\"_parent\"><img src=\"https://colab.research.google.com/assets/colab-badge.svg\" alt=\"Open In Colab\"/></a>"
      ]
    },
    {
      "cell_type": "markdown",
      "metadata": {
        "id": "VPbnMrzouE0q",
        "colab_type": "text"
      },
      "source": [
        "# Basics of NumPy Arrays"
      ]
    },
    {
      "cell_type": "markdown",
      "metadata": {
        "id": "QzUgn_cBurSs",
        "colab_type": "text"
      },
      "source": [
        "Below examples shows the NumPy data manipulation to access data and subarrays, and to split, reshape, and join the arrays."
      ]
    },
    {
      "cell_type": "markdown",
      "metadata": {
        "id": "p8Gvl6FLvPdM",
        "colab_type": "text"
      },
      "source": [
        "### Attributes of Array\n",
        "Determining the size, shape, memory consumption, and data types of arrays"
      ]
    },
    {
      "cell_type": "code",
      "metadata": {
        "id": "sCx_xkJMt5Va",
        "colab_type": "code",
        "colab": {}
      },
      "source": [
        "import numpy as np\n",
        "np.random.seed(0) #seed for reproducibility\n",
        "x1 = np.random.randint(10,size=6) #One-dimensional array\n",
        "x2 = np.random.randint(10,size=(3,4)) #Two-dimensional array\n",
        "x3 = np.random.randint(10,size=(3,4,5)) #Three-dimensional array"
      ],
      "execution_count": 0,
      "outputs": []
    },
    {
      "cell_type": "code",
      "metadata": {
        "id": "-uG-ynyXukWN",
        "colab_type": "code",
        "outputId": "cac73413-1748-4011-e765-da1da22ed111",
        "colab": {
          "base_uri": "https://localhost:8080/",
          "height": 34
        }
      },
      "source": [
        "x1"
      ],
      "execution_count": 3,
      "outputs": [
        {
          "output_type": "execute_result",
          "data": {
            "text/plain": [
              "array([5, 0, 3, 3, 7, 9])"
            ]
          },
          "metadata": {
            "tags": []
          },
          "execution_count": 3
        }
      ]
    },
    {
      "cell_type": "code",
      "metadata": {
        "id": "HTtgKYzxuqa1",
        "colab_type": "code",
        "outputId": "ab1f7aaf-5aef-4759-e2a6-7f64d73f0b73",
        "colab": {
          "base_uri": "https://localhost:8080/",
          "height": 68
        }
      },
      "source": [
        "x2"
      ],
      "execution_count": 4,
      "outputs": [
        {
          "output_type": "execute_result",
          "data": {
            "text/plain": [
              "array([[3, 5, 2, 4],\n",
              "       [7, 6, 8, 8],\n",
              "       [1, 6, 7, 7]])"
            ]
          },
          "metadata": {
            "tags": []
          },
          "execution_count": 4
        }
      ]
    },
    {
      "cell_type": "code",
      "metadata": {
        "id": "srdQAMbZu64B",
        "colab_type": "code",
        "outputId": "35b6f0ff-df49-4535-b501-5dbc1e0f58d5",
        "colab": {
          "base_uri": "https://localhost:8080/",
          "height": 255
        }
      },
      "source": [
        "x3"
      ],
      "execution_count": 5,
      "outputs": [
        {
          "output_type": "execute_result",
          "data": {
            "text/plain": [
              "array([[[8, 1, 5, 9, 8],\n",
              "        [9, 4, 3, 0, 3],\n",
              "        [5, 0, 2, 3, 8],\n",
              "        [1, 3, 3, 3, 7]],\n",
              "\n",
              "       [[0, 1, 9, 9, 0],\n",
              "        [4, 7, 3, 2, 7],\n",
              "        [2, 0, 0, 4, 5],\n",
              "        [5, 6, 8, 4, 1]],\n",
              "\n",
              "       [[4, 9, 8, 1, 1],\n",
              "        [7, 9, 9, 3, 6],\n",
              "        [7, 2, 0, 3, 5],\n",
              "        [9, 4, 4, 6, 4]]])"
            ]
          },
          "metadata": {
            "tags": []
          },
          "execution_count": 5
        }
      ]
    },
    {
      "cell_type": "code",
      "metadata": {
        "id": "vq4Apq_Yu7Yf",
        "colab_type": "code",
        "outputId": "1ca931ce-8d87-466f-c9ae-dfd21b9383d9",
        "colab": {
          "base_uri": "https://localhost:8080/",
          "height": 68
        }
      },
      "source": [
        "print(\"x3 dimension:\",x3.ndim)\n",
        "print(\"x3 shape:\",x3.shape)\n",
        "print(\"x3 size:\",x3.size)"
      ],
      "execution_count": 6,
      "outputs": [
        {
          "output_type": "stream",
          "text": [
            "x3 dimension: 3\n",
            "x3 shape: (3, 4, 5)\n",
            "x3 size: 60\n"
          ],
          "name": "stdout"
        }
      ]
    },
    {
      "cell_type": "code",
      "metadata": {
        "id": "G8CwKLj1vGQ2",
        "colab_type": "code",
        "outputId": "bfbd281c-57eb-4de6-afec-050c407b026f",
        "colab": {
          "base_uri": "https://localhost:8080/",
          "height": 34
        }
      },
      "source": [
        "print(\"x3 dtype:\",x3.dtype)"
      ],
      "execution_count": 7,
      "outputs": [
        {
          "output_type": "stream",
          "text": [
            "x3 dtype: int64\n"
          ],
          "name": "stdout"
        }
      ]
    },
    {
      "cell_type": "code",
      "metadata": {
        "id": "IdtEIDU2vb-J",
        "colab_type": "code",
        "colab": {
          "base_uri": "https://localhost:8080/",
          "height": 51
        },
        "outputId": "0b29cbf1-841b-4174-ed41-1cb30d336e7d"
      },
      "source": [
        "print(\"x3 itemsize\",x3.itemsize)\n",
        "print(\"x3 nbytes\",x3.nbytes)\n",
        "# itemsize * size = nbytes"
      ],
      "execution_count": 9,
      "outputs": [
        {
          "output_type": "stream",
          "text": [
            "x3 itemsize 8\n",
            "x3 nbytes 480\n"
          ],
          "name": "stdout"
        }
      ]
    },
    {
      "cell_type": "markdown",
      "metadata": {
        "id": "T50-gYcbv-Jw",
        "colab_type": "text"
      },
      "source": [
        "### Array Indexing: Accessing Single Elements"
      ]
    },
    {
      "cell_type": "code",
      "metadata": {
        "id": "UlqbC1hnvmNo",
        "colab_type": "code",
        "colab": {
          "base_uri": "https://localhost:8080/",
          "height": 34
        },
        "outputId": "3582d01b-1604-4b57-c62d-677d11bbd29f"
      },
      "source": [
        "x1"
      ],
      "execution_count": 10,
      "outputs": [
        {
          "output_type": "execute_result",
          "data": {
            "text/plain": [
              "array([5, 0, 3, 3, 7, 9])"
            ]
          },
          "metadata": {
            "tags": []
          },
          "execution_count": 10
        }
      ]
    },
    {
      "cell_type": "code",
      "metadata": {
        "id": "N200FHFVwH9n",
        "colab_type": "code",
        "colab": {
          "base_uri": "https://localhost:8080/",
          "height": 34
        },
        "outputId": "6d99e09b-9b54-462f-e12e-859e115da071"
      },
      "source": [
        "x1[0]"
      ],
      "execution_count": 11,
      "outputs": [
        {
          "output_type": "execute_result",
          "data": {
            "text/plain": [
              "5"
            ]
          },
          "metadata": {
            "tags": []
          },
          "execution_count": 11
        }
      ]
    },
    {
      "cell_type": "code",
      "metadata": {
        "id": "WoNVueDDwJyp",
        "colab_type": "code",
        "colab": {
          "base_uri": "https://localhost:8080/",
          "height": 34
        },
        "outputId": "3dad95d7-71b6-41e5-c13d-c1fd889c40d2"
      },
      "source": [
        "x1[-1]"
      ],
      "execution_count": 12,
      "outputs": [
        {
          "output_type": "execute_result",
          "data": {
            "text/plain": [
              "9"
            ]
          },
          "metadata": {
            "tags": []
          },
          "execution_count": 12
        }
      ]
    },
    {
      "cell_type": "code",
      "metadata": {
        "id": "FBqNVZL8wN41",
        "colab_type": "code",
        "colab": {
          "base_uri": "https://localhost:8080/",
          "height": 68
        },
        "outputId": "626782fd-7fe6-4c6d-8f5a-1bf8a0e91f1b"
      },
      "source": [
        "x2"
      ],
      "execution_count": 13,
      "outputs": [
        {
          "output_type": "execute_result",
          "data": {
            "text/plain": [
              "array([[3, 5, 2, 4],\n",
              "       [7, 6, 8, 8],\n",
              "       [1, 6, 7, 7]])"
            ]
          },
          "metadata": {
            "tags": []
          },
          "execution_count": 13
        }
      ]
    },
    {
      "cell_type": "code",
      "metadata": {
        "id": "_kpdpIewwRYa",
        "colab_type": "code",
        "colab": {
          "base_uri": "https://localhost:8080/",
          "height": 34
        },
        "outputId": "84bef6dd-cecf-41f4-96ad-5afa69068a64"
      },
      "source": [
        "x2[1][0]"
      ],
      "execution_count": 14,
      "outputs": [
        {
          "output_type": "execute_result",
          "data": {
            "text/plain": [
              "7"
            ]
          },
          "metadata": {
            "tags": []
          },
          "execution_count": 14
        }
      ]
    },
    {
      "cell_type": "code",
      "metadata": {
        "id": "C0IuC7z4wTGN",
        "colab_type": "code",
        "colab": {
          "base_uri": "https://localhost:8080/",
          "height": 34
        },
        "outputId": "35bca46b-7710-47c6-b344-953c09e7ee26"
      },
      "source": [
        "x2[2][-2]"
      ],
      "execution_count": 15,
      "outputs": [
        {
          "output_type": "execute_result",
          "data": {
            "text/plain": [
              "7"
            ]
          },
          "metadata": {
            "tags": []
          },
          "execution_count": 15
        }
      ]
    },
    {
      "cell_type": "code",
      "metadata": {
        "id": "2GhamrZxwYXA",
        "colab_type": "code",
        "colab": {}
      },
      "source": [
        "x2[0][0] = 2"
      ],
      "execution_count": 0,
      "outputs": []
    },
    {
      "cell_type": "code",
      "metadata": {
        "id": "Wr8ERc4awc4j",
        "colab_type": "code",
        "colab": {
          "base_uri": "https://localhost:8080/",
          "height": 68
        },
        "outputId": "60eddf92-6887-40ee-c147-67c11b7cca10"
      },
      "source": [
        "x2"
      ],
      "execution_count": 17,
      "outputs": [
        {
          "output_type": "execute_result",
          "data": {
            "text/plain": [
              "array([[2, 5, 2, 4],\n",
              "       [7, 6, 8, 8],\n",
              "       [1, 6, 7, 7]])"
            ]
          },
          "metadata": {
            "tags": []
          },
          "execution_count": 17
        }
      ]
    },
    {
      "cell_type": "code",
      "metadata": {
        "id": "2iFIWr6ywdvs",
        "colab_type": "code",
        "colab": {}
      },
      "source": [
        "# While assigning a floating point value to int data type array, the array element is slightly truncated\n",
        "x1[0]=3.02848937458 "
      ],
      "execution_count": 0,
      "outputs": []
    },
    {
      "cell_type": "code",
      "metadata": {
        "id": "CV7eGT5qwkwW",
        "colab_type": "code",
        "colab": {
          "base_uri": "https://localhost:8080/",
          "height": 34
        },
        "outputId": "082a634b-b44b-42cc-968f-6c91710e71cc"
      },
      "source": [
        "x1"
      ],
      "execution_count": 19,
      "outputs": [
        {
          "output_type": "execute_result",
          "data": {
            "text/plain": [
              "array([3, 0, 3, 3, 7, 9])"
            ]
          },
          "metadata": {
            "tags": []
          },
          "execution_count": 19
        }
      ]
    },
    {
      "cell_type": "markdown",
      "metadata": {
        "id": "gSQT2MWZw4q7",
        "colab_type": "text"
      },
      "source": [
        "### Array Slicing: Accessing Subarrays"
      ]
    },
    {
      "cell_type": "markdown",
      "metadata": {
        "id": "SpFkP-p4xKFO",
        "colab_type": "text"
      },
      "source": [
        "To access the NumPy array we use the similar slicing syntax\n",
        "\n",
        "``` python\n",
        "x[start:stop:step]\n",
        "```"
      ]
    },
    {
      "cell_type": "markdown",
      "metadata": {
        "id": "TeS45YuSxiXD",
        "colab_type": "text"
      },
      "source": [
        "One Dimensional Array"
      ]
    },
    {
      "cell_type": "code",
      "metadata": {
        "id": "Nwzr3L2LwlYp",
        "colab_type": "code",
        "colab": {
          "base_uri": "https://localhost:8080/",
          "height": 34
        },
        "outputId": "64f0b459-7b19-4947-ddf8-602e782f8131"
      },
      "source": [
        "x = np.arange(10)\n",
        "x"
      ],
      "execution_count": 22,
      "outputs": [
        {
          "output_type": "execute_result",
          "data": {
            "text/plain": [
              "array([0, 1, 2, 3, 4, 5, 6, 7, 8, 9])"
            ]
          },
          "metadata": {
            "tags": []
          },
          "execution_count": 22
        }
      ]
    },
    {
      "cell_type": "code",
      "metadata": {
        "id": "ZdexdnB1xl-7",
        "colab_type": "code",
        "colab": {
          "base_uri": "https://localhost:8080/",
          "height": 34
        },
        "outputId": "2e7de3e5-b5bf-4b7e-e8c0-82eb20091140"
      },
      "source": [
        "x[:5]"
      ],
      "execution_count": 23,
      "outputs": [
        {
          "output_type": "execute_result",
          "data": {
            "text/plain": [
              "array([0, 1, 2, 3, 4])"
            ]
          },
          "metadata": {
            "tags": []
          },
          "execution_count": 23
        }
      ]
    },
    {
      "cell_type": "code",
      "metadata": {
        "id": "pVtIsXznxotN",
        "colab_type": "code",
        "colab": {
          "base_uri": "https://localhost:8080/",
          "height": 34
        },
        "outputId": "a1fc8f87-05c1-419e-e91f-97d23f785d2e"
      },
      "source": [
        "x[5:]"
      ],
      "execution_count": 24,
      "outputs": [
        {
          "output_type": "execute_result",
          "data": {
            "text/plain": [
              "array([5, 6, 7, 8, 9])"
            ]
          },
          "metadata": {
            "tags": []
          },
          "execution_count": 24
        }
      ]
    },
    {
      "cell_type": "code",
      "metadata": {
        "id": "ZXiRpD07xqmD",
        "colab_type": "code",
        "colab": {
          "base_uri": "https://localhost:8080/",
          "height": 34
        },
        "outputId": "5cfac85f-a41b-4103-faf6-5ec0f3301048"
      },
      "source": [
        "x[4:7]"
      ],
      "execution_count": 25,
      "outputs": [
        {
          "output_type": "execute_result",
          "data": {
            "text/plain": [
              "array([4, 5, 6])"
            ]
          },
          "metadata": {
            "tags": []
          },
          "execution_count": 25
        }
      ]
    },
    {
      "cell_type": "code",
      "metadata": {
        "id": "Bh0TIpqCxrwx",
        "colab_type": "code",
        "colab": {
          "base_uri": "https://localhost:8080/",
          "height": 34
        },
        "outputId": "c2c6bc34-47ba-4460-afde-60d4740964b2"
      },
      "source": [
        "x[::2]"
      ],
      "execution_count": 26,
      "outputs": [
        {
          "output_type": "execute_result",
          "data": {
            "text/plain": [
              "array([0, 2, 4, 6, 8])"
            ]
          },
          "metadata": {
            "tags": []
          },
          "execution_count": 26
        }
      ]
    },
    {
      "cell_type": "code",
      "metadata": {
        "id": "3i8nXqJNxtCn",
        "colab_type": "code",
        "colab": {
          "base_uri": "https://localhost:8080/",
          "height": 34
        },
        "outputId": "898a2081-6d2c-435f-a08a-616b0cc09b87"
      },
      "source": [
        "x[1::2]"
      ],
      "execution_count": 27,
      "outputs": [
        {
          "output_type": "execute_result",
          "data": {
            "text/plain": [
              "array([1, 3, 5, 7, 9])"
            ]
          },
          "metadata": {
            "tags": []
          },
          "execution_count": 27
        }
      ]
    },
    {
      "cell_type": "code",
      "metadata": {
        "id": "8jP8zHnJxwqW",
        "colab_type": "code",
        "colab": {
          "base_uri": "https://localhost:8080/",
          "height": 34
        },
        "outputId": "f811afd2-c389-4c37-fc40-a0f46b3235c4"
      },
      "source": [
        "x[::-1] ## All element reversed"
      ],
      "execution_count": 28,
      "outputs": [
        {
          "output_type": "execute_result",
          "data": {
            "text/plain": [
              "array([9, 8, 7, 6, 5, 4, 3, 2, 1, 0])"
            ]
          },
          "metadata": {
            "tags": []
          },
          "execution_count": 28
        }
      ]
    },
    {
      "cell_type": "code",
      "metadata": {
        "id": "HOAxP5Wox8kv",
        "colab_type": "code",
        "colab": {
          "base_uri": "https://localhost:8080/",
          "height": 34
        },
        "outputId": "d4f92932-7d57-49c9-e67c-0633edad559e"
      },
      "source": [
        "x[5::-2]"
      ],
      "execution_count": 29,
      "outputs": [
        {
          "output_type": "execute_result",
          "data": {
            "text/plain": [
              "array([5, 3, 1])"
            ]
          },
          "metadata": {
            "tags": []
          },
          "execution_count": 29
        }
      ]
    },
    {
      "cell_type": "markdown",
      "metadata": {
        "id": "ZuzXoQmOyR53",
        "colab_type": "text"
      },
      "source": [
        "### Multidimensional Subarrays\n",
        "Same as one-dimensional arrays, with multiple slices separated by commas"
      ]
    },
    {
      "cell_type": "code",
      "metadata": {
        "id": "eXkq9keXx_tF",
        "colab_type": "code",
        "colab": {
          "base_uri": "https://localhost:8080/",
          "height": 68
        },
        "outputId": "aea1cbab-a2ce-4fa5-f09a-3fe6f66954cb"
      },
      "source": [
        "x2"
      ],
      "execution_count": 30,
      "outputs": [
        {
          "output_type": "execute_result",
          "data": {
            "text/plain": [
              "array([[2, 5, 2, 4],\n",
              "       [7, 6, 8, 8],\n",
              "       [1, 6, 7, 7]])"
            ]
          },
          "metadata": {
            "tags": []
          },
          "execution_count": 30
        }
      ]
    },
    {
      "cell_type": "code",
      "metadata": {
        "id": "WF7vVDTFytZI",
        "colab_type": "code",
        "colab": {
          "base_uri": "https://localhost:8080/",
          "height": 51
        },
        "outputId": "5edeccc1-e813-451f-985c-4a00c30a0c36"
      },
      "source": [
        "x2[:2,:3]"
      ],
      "execution_count": 31,
      "outputs": [
        {
          "output_type": "execute_result",
          "data": {
            "text/plain": [
              "array([[2, 5, 2],\n",
              "       [7, 6, 8]])"
            ]
          },
          "metadata": {
            "tags": []
          },
          "execution_count": 31
        }
      ]
    },
    {
      "cell_type": "code",
      "metadata": {
        "id": "IsggfT-0yzM9",
        "colab_type": "code",
        "colab": {
          "base_uri": "https://localhost:8080/",
          "height": 68
        },
        "outputId": "75f8db00-78e3-464e-b3a1-15afefac0dd1"
      },
      "source": [
        "x2[:3,::2]"
      ],
      "execution_count": 32,
      "outputs": [
        {
          "output_type": "execute_result",
          "data": {
            "text/plain": [
              "array([[2, 2],\n",
              "       [7, 8],\n",
              "       [1, 7]])"
            ]
          },
          "metadata": {
            "tags": []
          },
          "execution_count": 32
        }
      ]
    },
    {
      "cell_type": "code",
      "metadata": {
        "id": "m60hadpQy6JQ",
        "colab_type": "code",
        "colab": {
          "base_uri": "https://localhost:8080/",
          "height": 68
        },
        "outputId": "bcb7ab95-ce73-4829-d988-dee4632d009f"
      },
      "source": [
        "x2[::-1,::-1]"
      ],
      "execution_count": 33,
      "outputs": [
        {
          "output_type": "execute_result",
          "data": {
            "text/plain": [
              "array([[7, 7, 6, 1],\n",
              "       [8, 8, 6, 7],\n",
              "       [4, 2, 5, 2]])"
            ]
          },
          "metadata": {
            "tags": []
          },
          "execution_count": 33
        }
      ]
    },
    {
      "cell_type": "markdown",
      "metadata": {
        "id": "PqxOcBGOzXjl",
        "colab_type": "text"
      },
      "source": [
        "### Accessing array rows and columns"
      ]
    },
    {
      "cell_type": "code",
      "metadata": {
        "id": "WyE4ol0vzCcS",
        "colab_type": "code",
        "colab": {
          "base_uri": "https://localhost:8080/",
          "height": 34
        },
        "outputId": "5d715443-e822-4062-e49e-6fe0041f3313"
      },
      "source": [
        "x2[:,0] # First column of x2 array"
      ],
      "execution_count": 34,
      "outputs": [
        {
          "output_type": "execute_result",
          "data": {
            "text/plain": [
              "array([2, 7, 1])"
            ]
          },
          "metadata": {
            "tags": []
          },
          "execution_count": 34
        }
      ]
    },
    {
      "cell_type": "code",
      "metadata": {
        "id": "XBI2k4S9zjDN",
        "colab_type": "code",
        "colab": {
          "base_uri": "https://localhost:8080/",
          "height": 34
        },
        "outputId": "fcc5a3cd-2bbc-432c-e88e-0fad0d4ea34f"
      },
      "source": [
        "x2[0,:] # First row of x2 array"
      ],
      "execution_count": 35,
      "outputs": [
        {
          "output_type": "execute_result",
          "data": {
            "text/plain": [
              "array([2, 5, 2, 4])"
            ]
          },
          "metadata": {
            "tags": []
          },
          "execution_count": 35
        }
      ]
    },
    {
      "cell_type": "markdown",
      "metadata": {
        "id": "SQJ_PQRv0F7U",
        "colab_type": "text"
      },
      "source": [
        "### Subarray as no-copy views\n",
        "In NumPy the slicing doesn't create a copy. Modifying the sliced array will modify the original array"
      ]
    },
    {
      "cell_type": "code",
      "metadata": {
        "id": "WgJ-8yICzoSF",
        "colab_type": "code",
        "colab": {
          "base_uri": "https://localhost:8080/",
          "height": 68
        },
        "outputId": "ec8677ce-0539-40ea-eba2-98519993aa81"
      },
      "source": [
        "x2"
      ],
      "execution_count": 36,
      "outputs": [
        {
          "output_type": "execute_result",
          "data": {
            "text/plain": [
              "array([[2, 5, 2, 4],\n",
              "       [7, 6, 8, 8],\n",
              "       [1, 6, 7, 7]])"
            ]
          },
          "metadata": {
            "tags": []
          },
          "execution_count": 36
        }
      ]
    },
    {
      "cell_type": "markdown",
      "metadata": {
        "id": "EoYrJVA20yZ4",
        "colab_type": "text"
      },
      "source": [
        "Let's extract a $2 \\times 2$ subarray from this:"
      ]
    },
    {
      "cell_type": "code",
      "metadata": {
        "id": "lRrqbwzf0hBi",
        "colab_type": "code",
        "colab": {
          "base_uri": "https://localhost:8080/",
          "height": 51
        },
        "outputId": "08a0d7de-79b7-45c7-a592-45b5bc2f74c8"
      },
      "source": [
        "x2_slice = x2[:2,:2]\n",
        "x2_slice"
      ],
      "execution_count": 39,
      "outputs": [
        {
          "output_type": "execute_result",
          "data": {
            "text/plain": [
              "array([[2, 5],\n",
              "       [7, 6]])"
            ]
          },
          "metadata": {
            "tags": []
          },
          "execution_count": 39
        }
      ]
    },
    {
      "cell_type": "code",
      "metadata": {
        "id": "G56U7qt20izE",
        "colab_type": "code",
        "colab": {
          "base_uri": "https://localhost:8080/",
          "height": 51
        },
        "outputId": "3e2a896f-e1a0-4dc1-da82-d33f6d9744d6"
      },
      "source": [
        "x2_slice[0,0]=99\n",
        "x2_slice"
      ],
      "execution_count": 41,
      "outputs": [
        {
          "output_type": "execute_result",
          "data": {
            "text/plain": [
              "array([[99,  5],\n",
              "       [ 7,  6]])"
            ]
          },
          "metadata": {
            "tags": []
          },
          "execution_count": 41
        }
      ]
    },
    {
      "cell_type": "code",
      "metadata": {
        "id": "mSvoOsL40qBj",
        "colab_type": "code",
        "colab": {
          "base_uri": "https://localhost:8080/",
          "height": 68
        },
        "outputId": "3474d26f-c6ce-4c70-b489-4d4928b5b381"
      },
      "source": [
        "x2"
      ],
      "execution_count": 42,
      "outputs": [
        {
          "output_type": "execute_result",
          "data": {
            "text/plain": [
              "array([[99,  5,  2,  4],\n",
              "       [ 7,  6,  8,  8],\n",
              "       [ 1,  6,  7,  7]])"
            ]
          },
          "metadata": {
            "tags": []
          },
          "execution_count": 42
        }
      ]
    },
    {
      "cell_type": "markdown",
      "metadata": {
        "id": "8hlV3ktP1JNI",
        "colab_type": "text"
      },
      "source": [
        "### Creating copies of subarray"
      ]
    },
    {
      "cell_type": "code",
      "metadata": {
        "id": "-sW7az9M0thf",
        "colab_type": "code",
        "colab": {
          "base_uri": "https://localhost:8080/",
          "height": 51
        },
        "outputId": "68141103-ebf5-4a2f-b11e-ddeae37d07c7"
      },
      "source": [
        "x2_sub_copy = x2[:2,:2].copy()\n",
        "print(x2_sub_copy)"
      ],
      "execution_count": 48,
      "outputs": [
        {
          "output_type": "stream",
          "text": [
            "[[99  5]\n",
            " [ 7  6]]\n"
          ],
          "name": "stdout"
        }
      ]
    },
    {
      "cell_type": "code",
      "metadata": {
        "id": "9CD8MJOq1P-n",
        "colab_type": "code",
        "colab": {}
      },
      "source": [
        "x2_sub_copy[0,0]=2"
      ],
      "execution_count": 0,
      "outputs": []
    },
    {
      "cell_type": "code",
      "metadata": {
        "id": "v88Lqk4E1WUK",
        "colab_type": "code",
        "colab": {
          "base_uri": "https://localhost:8080/",
          "height": 68
        },
        "outputId": "76258d57-814b-4477-cb0f-ac2d1d2ab9b3"
      },
      "source": [
        "print(x2)"
      ],
      "execution_count": 50,
      "outputs": [
        {
          "output_type": "stream",
          "text": [
            "[[99  5  2  4]\n",
            " [ 7  6  8  8]\n",
            " [ 1  6  7  7]]\n"
          ],
          "name": "stdout"
        }
      ]
    },
    {
      "cell_type": "markdown",
      "metadata": {
        "id": "z347cT_71oGg",
        "colab_type": "text"
      },
      "source": [
        "### Reshaping of Arrays"
      ]
    },
    {
      "cell_type": "code",
      "metadata": {
        "id": "L1wCPEUS1Y1r",
        "colab_type": "code",
        "colab": {
          "base_uri": "https://localhost:8080/",
          "height": 68
        },
        "outputId": "7c0cc861-fdc8-40fe-ee68-a87430135b46"
      },
      "source": [
        "a = np.arange(1,10).reshape((3,3))\n",
        "print(a)"
      ],
      "execution_count": 53,
      "outputs": [
        {
          "output_type": "stream",
          "text": [
            "[[1 2 3]\n",
            " [4 5 6]\n",
            " [7 8 9]]\n"
          ],
          "name": "stdout"
        }
      ]
    },
    {
      "cell_type": "code",
      "metadata": {
        "id": "_lwAmox41vx3",
        "colab_type": "code",
        "colab": {
          "base_uri": "https://localhost:8080/",
          "height": 34
        },
        "outputId": "a37b6585-b7f5-45c9-e5b5-2896f8975667"
      },
      "source": [
        "a = np.array([1,2,3])\n",
        "print(a)"
      ],
      "execution_count": 55,
      "outputs": [
        {
          "output_type": "stream",
          "text": [
            "[1 2 3]\n"
          ],
          "name": "stdout"
        }
      ]
    },
    {
      "cell_type": "code",
      "metadata": {
        "id": "U3KYYwpX2WCk",
        "colab_type": "code",
        "colab": {
          "base_uri": "https://localhost:8080/",
          "height": 34
        },
        "outputId": "13a26aa5-c27a-4999-982b-0054aa650826"
      },
      "source": [
        "a.reshape((1,3))"
      ],
      "execution_count": 59,
      "outputs": [
        {
          "output_type": "execute_result",
          "data": {
            "text/plain": [
              "array([[1, 2, 3]])"
            ]
          },
          "metadata": {
            "tags": []
          },
          "execution_count": 59
        }
      ]
    },
    {
      "cell_type": "code",
      "metadata": {
        "id": "teQBrlFa2a_d",
        "colab_type": "code",
        "colab": {
          "base_uri": "https://localhost:8080/",
          "height": 34
        },
        "outputId": "d91142f0-002c-4d8b-9889-ce626daa3b2c"
      },
      "source": [
        "a[np.newaxis,:]"
      ],
      "execution_count": 60,
      "outputs": [
        {
          "output_type": "execute_result",
          "data": {
            "text/plain": [
              "array([[1, 2, 3]])"
            ]
          },
          "metadata": {
            "tags": []
          },
          "execution_count": 60
        }
      ]
    },
    {
      "cell_type": "code",
      "metadata": {
        "id": "Wcpk_l5m2sAb",
        "colab_type": "code",
        "colab": {
          "base_uri": "https://localhost:8080/",
          "height": 68
        },
        "outputId": "7af7e981-a9aa-443e-939d-28db4847bf2e"
      },
      "source": [
        "a.reshape((3,1))"
      ],
      "execution_count": 61,
      "outputs": [
        {
          "output_type": "execute_result",
          "data": {
            "text/plain": [
              "array([[1],\n",
              "       [2],\n",
              "       [3]])"
            ]
          },
          "metadata": {
            "tags": []
          },
          "execution_count": 61
        }
      ]
    },
    {
      "cell_type": "code",
      "metadata": {
        "id": "JCATqExY2wHo",
        "colab_type": "code",
        "colab": {
          "base_uri": "https://localhost:8080/",
          "height": 68
        },
        "outputId": "087a643a-1046-4c03-cb70-1af4dd7d87ae"
      },
      "source": [
        "a[:,np.newaxis]"
      ],
      "execution_count": 62,
      "outputs": [
        {
          "output_type": "execute_result",
          "data": {
            "text/plain": [
              "array([[1],\n",
              "       [2],\n",
              "       [3]])"
            ]
          },
          "metadata": {
            "tags": []
          },
          "execution_count": 62
        }
      ]
    },
    {
      "cell_type": "markdown",
      "metadata": {
        "id": "J-R2_3PW3QxF",
        "colab_type": "text"
      },
      "source": [
        "###Concatenation of Arrays"
      ]
    },
    {
      "cell_type": "code",
      "metadata": {
        "id": "zMWwNl-420aJ",
        "colab_type": "code",
        "colab": {
          "base_uri": "https://localhost:8080/",
          "height": 34
        },
        "outputId": "5e4a7f46-b8df-4ca3-a99b-60b51be79a08"
      },
      "source": [
        "a = np.array([1,2,3])\n",
        "b = np.array([4,5,6])\n",
        "np.concatenate([a,b])"
      ],
      "execution_count": 64,
      "outputs": [
        {
          "output_type": "execute_result",
          "data": {
            "text/plain": [
              "array([1, 2, 3, 4, 5, 6])"
            ]
          },
          "metadata": {
            "tags": []
          },
          "execution_count": 64
        }
      ]
    },
    {
      "cell_type": "code",
      "metadata": {
        "id": "-TAKY_ci3ILJ",
        "colab_type": "code",
        "colab": {
          "base_uri": "https://localhost:8080/",
          "height": 34
        },
        "outputId": "0115e32f-f6fa-4710-d476-75a3c61448b2"
      },
      "source": [
        "c = np.array([7,8,9])\n",
        "np.concatenate([a,b,c])"
      ],
      "execution_count": 66,
      "outputs": [
        {
          "output_type": "execute_result",
          "data": {
            "text/plain": [
              "array([1, 2, 3, 4, 5, 6, 7, 8, 9])"
            ]
          },
          "metadata": {
            "tags": []
          },
          "execution_count": 66
        }
      ]
    },
    {
      "cell_type": "code",
      "metadata": {
        "id": "zBGBbj533g3e",
        "colab_type": "code",
        "colab": {
          "base_uri": "https://localhost:8080/",
          "height": 85
        },
        "outputId": "1d19d320-c7db-402a-8ed2-ad24f1fc3e8c"
      },
      "source": [
        "grid = np.array([[1,2,3],[4,5,6]])\n",
        "final_grid = np.concatenate([grid,grid])\n",
        "final_grid"
      ],
      "execution_count": 68,
      "outputs": [
        {
          "output_type": "execute_result",
          "data": {
            "text/plain": [
              "array([[1, 2, 3],\n",
              "       [4, 5, 6],\n",
              "       [1, 2, 3],\n",
              "       [4, 5, 6]])"
            ]
          },
          "metadata": {
            "tags": []
          },
          "execution_count": 68
        }
      ]
    },
    {
      "cell_type": "code",
      "metadata": {
        "id": "OsFju1qx3yMM",
        "colab_type": "code",
        "colab": {
          "base_uri": "https://localhost:8080/",
          "height": 85
        },
        "outputId": "dcf994b7-adfb-498f-80b6-ee14c42c8ff0"
      },
      "source": [
        "grid[0,0]=2\n",
        "print(final_grid)"
      ],
      "execution_count": 69,
      "outputs": [
        {
          "output_type": "stream",
          "text": [
            "[[1 2 3]\n",
            " [4 5 6]\n",
            " [1 2 3]\n",
            " [4 5 6]]\n"
          ],
          "name": "stdout"
        }
      ]
    },
    {
      "cell_type": "code",
      "metadata": {
        "id": "c9Uu10Cf4A0x",
        "colab_type": "code",
        "colab": {
          "base_uri": "https://localhost:8080/",
          "height": 51
        },
        "outputId": "b2d01668-72a5-431e-c465-31486fbd6cb1"
      },
      "source": [
        "## Concatenate along the second axis\n",
        "np.concatenate([grid,grid],axis=1)"
      ],
      "execution_count": 70,
      "outputs": [
        {
          "output_type": "execute_result",
          "data": {
            "text/plain": [
              "array([[2, 2, 3, 2, 2, 3],\n",
              "       [4, 5, 6, 4, 5, 6]])"
            ]
          },
          "metadata": {
            "tags": []
          },
          "execution_count": 70
        }
      ]
    },
    {
      "cell_type": "markdown",
      "metadata": {
        "id": "49Km3os74oFI",
        "colab_type": "text"
      },
      "source": [
        "For working with mixed size arrays - horizontal stack ```np.hstack``` and vertical stack ```np.vstack``` is used."
      ]
    },
    {
      "cell_type": "code",
      "metadata": {
        "id": "ivpLUU5Z4Ye9",
        "colab_type": "code",
        "colab": {
          "base_uri": "https://localhost:8080/",
          "height": 68
        },
        "outputId": "1556b824-1a0d-4e20-910a-faf1f15ffcf3"
      },
      "source": [
        "x = np.array([1,2,3])\n",
        "grid = np.array([[4,5,6],\n",
        "                 [7,8,9]])\n",
        "np.vstack([x,grid])"
      ],
      "execution_count": 74,
      "outputs": [
        {
          "output_type": "execute_result",
          "data": {
            "text/plain": [
              "array([[1, 2, 3],\n",
              "       [4, 5, 6],\n",
              "       [7, 8, 9]])"
            ]
          },
          "metadata": {
            "tags": []
          },
          "execution_count": 74
        }
      ]
    },
    {
      "cell_type": "code",
      "metadata": {
        "id": "FriTXor-45FJ",
        "colab_type": "code",
        "colab": {
          "base_uri": "https://localhost:8080/",
          "height": 51
        },
        "outputId": "39fffda5-924e-49e2-9f04-1d786a197a9e"
      },
      "source": [
        "y = np.array([[99],\n",
        "             [99]])\n",
        "np.hstack([grid,y])"
      ],
      "execution_count": 78,
      "outputs": [
        {
          "output_type": "execute_result",
          "data": {
            "text/plain": [
              "array([[ 4,  5,  6, 99],\n",
              "       [ 7,  8,  9, 99]])"
            ]
          },
          "metadata": {
            "tags": []
          },
          "execution_count": 78
        }
      ]
    },
    {
      "cell_type": "code",
      "metadata": {
        "id": "97q6pVrR5ZKW",
        "colab_type": "code",
        "colab": {
          "base_uri": "https://localhost:8080/",
          "height": 136
        },
        "outputId": "fdc1307c-350e-4a75-9888-a15d671a4ddd"
      },
      "source": [
        "np.dstack([grid,grid])"
      ],
      "execution_count": 80,
      "outputs": [
        {
          "output_type": "execute_result",
          "data": {
            "text/plain": [
              "array([[[4, 4],\n",
              "        [5, 5],\n",
              "        [6, 6]],\n",
              "\n",
              "       [[7, 7],\n",
              "        [8, 8],\n",
              "        [9, 9]]])"
            ]
          },
          "metadata": {
            "tags": []
          },
          "execution_count": 80
        }
      ]
    },
    {
      "cell_type": "markdown",
      "metadata": {
        "id": "3cTOK1Lh7BXk",
        "colab_type": "text"
      },
      "source": [
        "### Splitting of Arrays\n",
        "Array can be splitted with ```np.split```,```np.hsplit```,```np.vsplit```,and ```np.dsplit```"
      ]
    },
    {
      "cell_type": "code",
      "metadata": {
        "id": "480VS0HJ503N",
        "colab_type": "code",
        "colab": {
          "base_uri": "https://localhost:8080/",
          "height": 34
        },
        "outputId": "42b62adb-434b-44fc-913d-8557412e966c"
      },
      "source": [
        "x = [1,2,3,99,99,3,2,1]\n",
        "x1,x2,x3 = np.split(x,[3,5])\n",
        "print(x1,x2,x3)"
      ],
      "execution_count": 83,
      "outputs": [
        {
          "output_type": "stream",
          "text": [
            "[1 2 3] [99 99] [3 2 1]\n"
          ],
          "name": "stdout"
        }
      ]
    },
    {
      "cell_type": "code",
      "metadata": {
        "id": "h9oSafHD7ICs",
        "colab_type": "code",
        "colab": {
          "base_uri": "https://localhost:8080/",
          "height": 85
        },
        "outputId": "c73f88cd-99b9-459b-ab31-b299ffbf657e"
      },
      "source": [
        "grid = np.arange(16).reshape((4,4))\n",
        "grid"
      ],
      "execution_count": 86,
      "outputs": [
        {
          "output_type": "execute_result",
          "data": {
            "text/plain": [
              "array([[ 0,  1,  2,  3],\n",
              "       [ 4,  5,  6,  7],\n",
              "       [ 8,  9, 10, 11],\n",
              "       [12, 13, 14, 15]])"
            ]
          },
          "metadata": {
            "tags": []
          },
          "execution_count": 86
        }
      ]
    },
    {
      "cell_type": "code",
      "metadata": {
        "id": "ryrwLm3G7fYZ",
        "colab_type": "code",
        "colab": {
          "base_uri": "https://localhost:8080/",
          "height": 85
        },
        "outputId": "323aeb54-ca8d-47c6-aa30-ef8ed52c118e"
      },
      "source": [
        "upper,lower = np.vsplit(grid,2)\n",
        "print(upper)\n",
        "print(lower)"
      ],
      "execution_count": 87,
      "outputs": [
        {
          "output_type": "stream",
          "text": [
            "[[0 1 2 3]\n",
            " [4 5 6 7]]\n",
            "[[ 8  9 10 11]\n",
            " [12 13 14 15]]\n"
          ],
          "name": "stdout"
        }
      ]
    },
    {
      "cell_type": "code",
      "metadata": {
        "id": "ltpUuL3g7tRR",
        "colab_type": "code",
        "colab": {
          "base_uri": "https://localhost:8080/",
          "height": 153
        },
        "outputId": "3758f954-fb1b-42fa-822d-93cbeccc7336"
      },
      "source": [
        "left,right = np.hsplit(grid,2)\n",
        "print(left)\n",
        "print(right)"
      ],
      "execution_count": 89,
      "outputs": [
        {
          "output_type": "stream",
          "text": [
            "[[ 0  1]\n",
            " [ 4  5]\n",
            " [ 8  9]\n",
            " [12 13]]\n",
            "[[ 2  3]\n",
            " [ 6  7]\n",
            " [10 11]\n",
            " [14 15]]\n"
          ],
          "name": "stdout"
        }
      ]
    },
    {
      "cell_type": "code",
      "metadata": {
        "id": "_t0ITsS671mr",
        "colab_type": "code",
        "colab": {
          "base_uri": "https://localhost:8080/",
          "height": 255
        },
        "outputId": "d53943fc-aae8-4c67-c85a-81004a8a309b"
      },
      "source": [
        "y = np.random.randint(10,size=(3,4,5))\n",
        "y"
      ],
      "execution_count": 92,
      "outputs": [
        {
          "output_type": "execute_result",
          "data": {
            "text/plain": [
              "array([[[3, 2, 0, 8, 8],\n",
              "        [3, 8, 2, 8, 4],\n",
              "        [3, 0, 4, 3, 6],\n",
              "        [9, 8, 0, 8, 5]],\n",
              "\n",
              "       [[9, 0, 9, 6, 5],\n",
              "        [3, 1, 8, 0, 4],\n",
              "        [9, 6, 5, 7, 8],\n",
              "        [8, 9, 2, 8, 6]],\n",
              "\n",
              "       [[6, 9, 1, 6, 8],\n",
              "        [8, 3, 2, 3, 6],\n",
              "        [3, 6, 5, 7, 0],\n",
              "        [8, 4, 6, 5, 8]]])"
            ]
          },
          "metadata": {
            "tags": []
          },
          "execution_count": 92
        }
      ]
    },
    {
      "cell_type": "markdown",
      "metadata": {
        "id": "aok_h9Jd8wI9",
        "colab_type": "text"
      },
      "source": [
        "Similarly ```np.dsplit``` will split the array along the third axis.\n",
        "It requires atleast array of 3 dimensions."
      ]
    },
    {
      "cell_type": "code",
      "metadata": {
        "id": "kSOKvpAS8CcI",
        "colab_type": "code",
        "colab": {
          "base_uri": "https://localhost:8080/",
          "height": 527
        },
        "outputId": "d8a1e688-8528-49b6-990d-0da416a209b4"
      },
      "source": [
        "d_split = np.dsplit(y,[2,2,2])\n",
        "d_split"
      ],
      "execution_count": 97,
      "outputs": [
        {
          "output_type": "execute_result",
          "data": {
            "text/plain": [
              "[array([[[3, 2],\n",
              "         [3, 8],\n",
              "         [3, 0],\n",
              "         [9, 8]],\n",
              " \n",
              "        [[9, 0],\n",
              "         [3, 1],\n",
              "         [9, 6],\n",
              "         [8, 9]],\n",
              " \n",
              "        [[6, 9],\n",
              "         [8, 3],\n",
              "         [3, 6],\n",
              "         [8, 4]]]),\n",
              " array([], shape=(3, 4, 0), dtype=int64),\n",
              " array([], shape=(3, 4, 0), dtype=int64),\n",
              " array([[[0, 8, 8],\n",
              "         [2, 8, 4],\n",
              "         [4, 3, 6],\n",
              "         [0, 8, 5]],\n",
              " \n",
              "        [[9, 6, 5],\n",
              "         [8, 0, 4],\n",
              "         [5, 7, 8],\n",
              "         [2, 8, 6]],\n",
              " \n",
              "        [[1, 6, 8],\n",
              "         [2, 3, 6],\n",
              "         [5, 7, 0],\n",
              "         [6, 5, 8]]])]"
            ]
          },
          "metadata": {
            "tags": []
          },
          "execution_count": 97
        }
      ]
    }
  ]
}